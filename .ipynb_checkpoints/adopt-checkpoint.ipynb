{
 "cells": [
  {
   "cell_type": "code",
   "execution_count": 2,
   "id": "8625b6e7-e249-4256-a0ad-5a933bd54680",
   "metadata": {},
   "outputs": [],
   "source": [
    "import joblib\n",
    "import pandas as pd"
   ]
  },
  {
   "cell_type": "code",
   "execution_count": 3,
   "id": "0d721e89-e1c1-4b95-b913-6600d0d35b00",
   "metadata": {},
   "outputs": [],
   "source": [
    "# Load the trained model\n",
    "model = joblib.load('model_reduced.pkl')\n",
    "\n",
    "def get_user_input():\n",
    "    pet_type = input(\"Enter Pet Type (Dog, Cat, Rabbit, Bird): \").strip().lower().title()\n",
    "    breed = input(\"Enter Breed (Rabbit, Parakeet, Siamese, Persian, Labrador, Poodle, Golden Retriever): \").strip().lower().title()\n",
    "    age_in_months = int(input(\"Enter Age in Months: \"))\n",
    "    vaccinated = int(input(\"Is the pet vaccinated(0 - Not vaccinated, 1 - Vaccinated:) \"))\n",
    "    health = int(input(\"Is the pet healthy (0 - Healthy, 1 - Medical condition:)\"))\n",
    "    weight = int(input(\"Enter the weight in Kg:\" ))\n",
    "    size = input(\"How big is the pet (Small, Medium, Large): \").strip().lower().title()\n",
    "    days_in_shelter = int(input(\"How long has the pet been already in the shelter [days]: \"))"
   ]
  },
  {
   "cell_type": "code",
   "execution_count": null,
   "id": "0c4aa894-9492-46de-922c-b8a0b65224fd",
   "metadata": {},
   "outputs": [],
   "source": []
  },
  {
   "cell_type": "code",
   "execution_count": null,
   "id": "ebee11e2-0f74-44f1-8e38-10f475fe6e68",
   "metadata": {},
   "outputs": [],
   "source": []
  }
 ],
 "metadata": {
  "kernelspec": {
   "display_name": "Python 3 (ipykernel)",
   "language": "python",
   "name": "python3"
  },
  "language_info": {
   "codemirror_mode": {
    "name": "ipython",
    "version": 3
   },
   "file_extension": ".py",
   "mimetype": "text/x-python",
   "name": "python",
   "nbconvert_exporter": "python",
   "pygments_lexer": "ipython3",
   "version": "3.10.13"
  }
 },
 "nbformat": 4,
 "nbformat_minor": 5
}
