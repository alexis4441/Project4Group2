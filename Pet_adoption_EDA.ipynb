{
 "cells": [
  {
   "cell_type": "code",
   "execution_count": 42,
   "id": "46dde003-90a4-4266-a9f5-89ab46b2ce20",
   "metadata": {},
   "outputs": [],
   "source": [
    "# Import required libraries and dependencies\n",
    "import pandas as pd\n",
    "import matplotlib.pyplot as plt"
   ]
  },
  {
   "cell_type": "code",
   "execution_count": 43,
   "id": "5e4850b1-e22a-43bd-aeef-4252dd9176aa",
   "metadata": {},
   "outputs": [
    {
     "data": {
      "text/html": [
       "<div>\n",
       "<style scoped>\n",
       "    .dataframe tbody tr th:only-of-type {\n",
       "        vertical-align: middle;\n",
       "    }\n",
       "\n",
       "    .dataframe tbody tr th {\n",
       "        vertical-align: top;\n",
       "    }\n",
       "\n",
       "    .dataframe thead th {\n",
       "        text-align: right;\n",
       "    }\n",
       "</style>\n",
       "<table border=\"1\" class=\"dataframe\">\n",
       "  <thead>\n",
       "    <tr style=\"text-align: right;\">\n",
       "      <th></th>\n",
       "      <th>Pet_Type</th>\n",
       "      <th>Breed</th>\n",
       "      <th>Age_in_Months</th>\n",
       "      <th>Color</th>\n",
       "      <th>Size</th>\n",
       "      <th>Weight_in_Kg</th>\n",
       "      <th>Vaccinated</th>\n",
       "      <th>Health_Condition</th>\n",
       "      <th>Days_in_Shelter</th>\n",
       "      <th>Adoption_Fee</th>\n",
       "      <th>Previous_Owner</th>\n",
       "      <th>Adoption_Likelihood</th>\n",
       "    </tr>\n",
       "    <tr>\n",
       "      <th>Pet_ID</th>\n",
       "      <th></th>\n",
       "      <th></th>\n",
       "      <th></th>\n",
       "      <th></th>\n",
       "      <th></th>\n",
       "      <th></th>\n",
       "      <th></th>\n",
       "      <th></th>\n",
       "      <th></th>\n",
       "      <th></th>\n",
       "      <th></th>\n",
       "      <th></th>\n",
       "    </tr>\n",
       "  </thead>\n",
       "  <tbody>\n",
       "    <tr>\n",
       "      <th>500</th>\n",
       "      <td>Bird</td>\n",
       "      <td>Parakeet</td>\n",
       "      <td>131</td>\n",
       "      <td>Orange</td>\n",
       "      <td>Large</td>\n",
       "      <td>5.039768</td>\n",
       "      <td>1</td>\n",
       "      <td>0</td>\n",
       "      <td>27</td>\n",
       "      <td>140</td>\n",
       "      <td>0</td>\n",
       "      <td>0</td>\n",
       "    </tr>\n",
       "    <tr>\n",
       "      <th>501</th>\n",
       "      <td>Rabbit</td>\n",
       "      <td>Rabbit</td>\n",
       "      <td>73</td>\n",
       "      <td>White</td>\n",
       "      <td>Large</td>\n",
       "      <td>16.086727</td>\n",
       "      <td>0</td>\n",
       "      <td>0</td>\n",
       "      <td>8</td>\n",
       "      <td>235</td>\n",
       "      <td>0</td>\n",
       "      <td>0</td>\n",
       "    </tr>\n",
       "    <tr>\n",
       "      <th>502</th>\n",
       "      <td>Dog</td>\n",
       "      <td>Golden Retriever</td>\n",
       "      <td>136</td>\n",
       "      <td>Orange</td>\n",
       "      <td>Medium</td>\n",
       "      <td>2.076286</td>\n",
       "      <td>0</td>\n",
       "      <td>0</td>\n",
       "      <td>85</td>\n",
       "      <td>385</td>\n",
       "      <td>0</td>\n",
       "      <td>0</td>\n",
       "    </tr>\n",
       "    <tr>\n",
       "      <th>503</th>\n",
       "      <td>Bird</td>\n",
       "      <td>Parakeet</td>\n",
       "      <td>97</td>\n",
       "      <td>White</td>\n",
       "      <td>Small</td>\n",
       "      <td>3.339423</td>\n",
       "      <td>0</td>\n",
       "      <td>0</td>\n",
       "      <td>61</td>\n",
       "      <td>217</td>\n",
       "      <td>1</td>\n",
       "      <td>0</td>\n",
       "    </tr>\n",
       "    <tr>\n",
       "      <th>504</th>\n",
       "      <td>Rabbit</td>\n",
       "      <td>Rabbit</td>\n",
       "      <td>123</td>\n",
       "      <td>Gray</td>\n",
       "      <td>Large</td>\n",
       "      <td>20.498100</td>\n",
       "      <td>0</td>\n",
       "      <td>0</td>\n",
       "      <td>28</td>\n",
       "      <td>14</td>\n",
       "      <td>1</td>\n",
       "      <td>0</td>\n",
       "    </tr>\n",
       "    <tr>\n",
       "      <th>505</th>\n",
       "      <td>Dog</td>\n",
       "      <td>Labrador</td>\n",
       "      <td>70</td>\n",
       "      <td>Brown</td>\n",
       "      <td>Large</td>\n",
       "      <td>20.986261</td>\n",
       "      <td>0</td>\n",
       "      <td>0</td>\n",
       "      <td>87</td>\n",
       "      <td>301</td>\n",
       "      <td>1</td>\n",
       "      <td>0</td>\n",
       "    </tr>\n",
       "    <tr>\n",
       "      <th>506</th>\n",
       "      <td>Bird</td>\n",
       "      <td>Parakeet</td>\n",
       "      <td>169</td>\n",
       "      <td>Brown</td>\n",
       "      <td>Small</td>\n",
       "      <td>10.902613</td>\n",
       "      <td>1</td>\n",
       "      <td>0</td>\n",
       "      <td>70</td>\n",
       "      <td>440</td>\n",
       "      <td>1</td>\n",
       "      <td>0</td>\n",
       "    </tr>\n",
       "    <tr>\n",
       "      <th>507</th>\n",
       "      <td>Cat</td>\n",
       "      <td>Siamese</td>\n",
       "      <td>13</td>\n",
       "      <td>Orange</td>\n",
       "      <td>Large</td>\n",
       "      <td>7.252683</td>\n",
       "      <td>1</td>\n",
       "      <td>0</td>\n",
       "      <td>3</td>\n",
       "      <td>137</td>\n",
       "      <td>0</td>\n",
       "      <td>1</td>\n",
       "    </tr>\n",
       "    <tr>\n",
       "      <th>508</th>\n",
       "      <td>Bird</td>\n",
       "      <td>Parakeet</td>\n",
       "      <td>49</td>\n",
       "      <td>Brown</td>\n",
       "      <td>Medium</td>\n",
       "      <td>24.597598</td>\n",
       "      <td>1</td>\n",
       "      <td>1</td>\n",
       "      <td>69</td>\n",
       "      <td>405</td>\n",
       "      <td>0</td>\n",
       "      <td>0</td>\n",
       "    </tr>\n",
       "    <tr>\n",
       "      <th>509</th>\n",
       "      <td>Bird</td>\n",
       "      <td>Parakeet</td>\n",
       "      <td>60</td>\n",
       "      <td>Gray</td>\n",
       "      <td>Large</td>\n",
       "      <td>7.295994</td>\n",
       "      <td>0</td>\n",
       "      <td>0</td>\n",
       "      <td>73</td>\n",
       "      <td>231</td>\n",
       "      <td>1</td>\n",
       "      <td>0</td>\n",
       "    </tr>\n",
       "  </tbody>\n",
       "</table>\n",
       "</div>"
      ],
      "text/plain": [
       "       Pet_Type             Breed  Age_in_Months   Color    Size  \\\n",
       "Pet_ID                                                             \n",
       "500        Bird          Parakeet            131  Orange   Large   \n",
       "501      Rabbit            Rabbit             73   White   Large   \n",
       "502         Dog  Golden Retriever            136  Orange  Medium   \n",
       "503        Bird          Parakeet             97   White   Small   \n",
       "504      Rabbit            Rabbit            123    Gray   Large   \n",
       "505         Dog          Labrador             70   Brown   Large   \n",
       "506        Bird          Parakeet            169   Brown   Small   \n",
       "507         Cat           Siamese             13  Orange   Large   \n",
       "508        Bird          Parakeet             49   Brown  Medium   \n",
       "509        Bird          Parakeet             60    Gray   Large   \n",
       "\n",
       "        Weight_in_Kg  Vaccinated  Health_Condition  Days_in_Shelter  \\\n",
       "Pet_ID                                                                \n",
       "500         5.039768           1                 0               27   \n",
       "501        16.086727           0                 0                8   \n",
       "502         2.076286           0                 0               85   \n",
       "503         3.339423           0                 0               61   \n",
       "504        20.498100           0                 0               28   \n",
       "505        20.986261           0                 0               87   \n",
       "506        10.902613           1                 0               70   \n",
       "507         7.252683           1                 0                3   \n",
       "508        24.597598           1                 1               69   \n",
       "509         7.295994           0                 0               73   \n",
       "\n",
       "        Adoption_Fee  Previous_Owner  Adoption_Likelihood  \n",
       "Pet_ID                                                     \n",
       "500              140               0                    0  \n",
       "501              235               0                    0  \n",
       "502              385               0                    0  \n",
       "503              217               1                    0  \n",
       "504               14               1                    0  \n",
       "505              301               1                    0  \n",
       "506              440               1                    0  \n",
       "507              137               0                    1  \n",
       "508              405               0                    0  \n",
       "509              231               1                    0  "
      ]
     },
     "execution_count": 43,
     "metadata": {},
     "output_type": "execute_result"
    }
   ],
   "source": [
    "# Load the data into a Pandas DataFrame\n",
    "df_pet_adoption = pd.read_csv(\n",
    "    \"Output/pet_adoption_renamed.csv\", index_col=\"Pet_ID\")\n",
    "\n",
    "# Display sample data\n",
    "df_pet_adoption.head(10)"
   ]
  },
  {
   "cell_type": "code",
   "execution_count": 44,
   "id": "cca826d7-92aa-4a2a-a909-eb4ec2d5d7d3",
   "metadata": {},
   "outputs": [
    {
     "data": {
      "text/plain": [
       "['Pet_Type',\n",
       " 'Breed',\n",
       " 'Age_in_Months',\n",
       " 'Color',\n",
       " 'Size',\n",
       " 'Weight_in_Kg',\n",
       " 'Vaccinated',\n",
       " 'Health_Condition',\n",
       " 'Days_in_Shelter',\n",
       " 'Adoption_Fee',\n",
       " 'Previous_Owner',\n",
       " 'Adoption_Likelihood']"
      ]
     },
     "execution_count": 44,
     "metadata": {},
     "output_type": "execute_result"
    }
   ],
   "source": [
    "df_pet_adoption.columns.values.tolist()"
   ]
  },
  {
   "cell_type": "code",
   "execution_count": 116,
   "id": "0e27eb38-78f4-403b-9329-f47de19879d6",
   "metadata": {},
   "outputs": [
    {
     "data": {
      "image/png": "[encoded data removed]",
      "text/plain": [
       "<Figure size 1000x600 with 1 Axes>"
      ]
     },
     "metadata": {},
     "output_type": "display_data"
    },
    {
     "data": {
      "image/png": "[encoded data removed]",
      "text/plain": [
       "<Figure size 1000x600 with 1 Axes>"
      ]
     },
     "metadata": {},
     "output_type": "display_data"
    },
    {
     "data": {
      "image/png": "[encoded data removed]",
      "text/plain": [
       "<Figure size 1000x600 with 1 Axes>"
      ]
     },
     "metadata": {},
     "output_type": "display_data"
    },
    {
     "data": {
      "image/png": "[encoded data removed]",
      "text/plain": [
       "<Figure size 1000x600 with 1 Axes>"
      ]
     },
     "metadata": {},
     "output_type": "display_data"
    }
   ],
   "source": [
    "# Distribution plots\n",
    "numerical_features = ['Age_in_Months', 'Weight_in_Kg', 'Days_in_Shelter', 'Adoption_Fee']\n",
    "for feature in numerical_features:\n",
    "    plt.figure(figsize=(10, 6))\n",
    "    plt.hist(df_pet_adoption[feature], bins=30, edgecolor='k', alpha=0.7)\n",
    "    plt.title(f'Distribution of {feature}')\n",
    "    plt.xlabel(feature)\n",
    "    plt.ylabel('Frequency')\n",
    "    plt.savefig(f\"output_dir/{feature}.png\")\n",
    "    plt.show()"
   ]
  },
  {
   "cell_type": "code",
   "execution_count": 114,
   "id": "6f9fb779-1073-447b-b653-33aa93ef2631",
   "metadata": {},
   "outputs": [
    {
     "data": {
      "image/png": "[encoded data removed]",
      "text/plain": [
       "<Figure size 1000x800 with 1 Axes>"
      ]
     },
     "metadata": {},
     "output_type": "display_data"
    },
    {
     "data": {
      "image/png": "[encoded data removed]",
      "text/plain": [
       "<Figure size 1000x800 with 1 Axes>"
      ]
     },
     "metadata": {},
     "output_type": "display_data"
    },
    {
     "data": {
      "image/png": "[encoded data removed]",
      "text/plain": [
       "<Figure size 1000x800 with 1 Axes>"
      ]
     },
     "metadata": {},
     "output_type": "display_data"
    },
    {
     "data": {
      "image/png": "[encoded data removed]",
      "text/plain": [
       "<Figure size 1000x800 with 1 Axes>"
      ]
     },
     "metadata": {},
     "output_type": "display_data"
    },
    {
     "data": {
      "image/png": "[encoded data removed]",
      "text/plain": [
       "<Figure size 1000x800 with 1 Axes>"
      ]
     },
     "metadata": {},
     "output_type": "display_data"
    },
    {
     "data": {
      "image/png": "[encoded data removed]",
      "text/plain": [
       "<Figure size 1000x800 with 1 Axes>"
      ]
     },
     "metadata": {},
     "output_type": "display_data"
    },
    {
     "data": {
      "image/png": "[encoded data removed]",
      "text/plain": [
       "<Figure size 1000x800 with 1 Axes>"
      ]
     },
     "metadata": {},
     "output_type": "display_data"
    }
   ],
   "source": [
    "# Distribution plots\n",
    "categorical_features = ['Pet_Type', 'Breed', 'Color', 'Size', 'Vaccinated', 'Health_Condition', 'Previous_Owner']\n",
    "for feature in categorical_features:\n",
    "    plt.figure(figsize=(10, 8))\n",
    "    df_pet_adoption[feature].value_counts().plot(kind='bar', alpha=0.7)\n",
    "    plt.title(f'Count Plot of {feature}')\n",
    "    plt.xlabel(feature)\n",
    "    plt.ylabel('Count')\n",
    "    plt.xticks(rotation=90)\n",
    "    plt.savefig(f\"output_dir/{feature}.png\")\n",
    "    plt.show()"
   ]
  },
  {
   "cell_type": "code",
   "execution_count": null,
   "id": "c13bab48-cdd4-4911-b3fc-7fac04982814",
   "metadata": {},
   "outputs": [],
   "source": []
  },
  {
   "cell_type": "code",
   "execution_count": 47,
   "id": "ad0a24b3-ed97-4442-8b57-39cfb97f4171",
   "metadata": {},
   "outputs": [],
   "source": [
    "# imports\n",
    "from sklearn import tree\n",
    "from sklearn.ensemble import RandomForestClassifier\n",
    "from sklearn.preprocessing import StandardScaler\n",
    "from sklearn.model_selection import train_test_split\n",
    "from sklearn.metrics import confusion_matrix, accuracy_score, classification_report"
   ]
  },
  {
   "cell_type": "code",
   "execution_count": 48,
   "id": "892dafbf-fd87-4f84-a0f5-5e32da3bd9a2",
   "metadata": {},
   "outputs": [
    {
     "name": "stdout",
     "output_type": "stream",
     "text": [
      "<class 'pandas.core.frame.DataFrame'>\n",
      "Index: 2007 entries, 500 to 2506\n",
      "Data columns (total 12 columns):\n",
      " #   Column               Non-Null Count  Dtype  \n",
      "---  ------               --------------  -----  \n",
      " 0   Pet_Type             2007 non-null   object \n",
      " 1   Breed                2007 non-null   object \n",
      " 2   Age_in_Months        2007 non-null   int64  \n",
      " 3   Color                2007 non-null   object \n",
      " 4   Size                 2007 non-null   object \n",
      " 5   Weight_in_Kg         2007 non-null   float64\n",
      " 6   Vaccinated           2007 non-null   int64  \n",
      " 7   Health_Condition     2007 non-null   int64  \n",
      " 8   Days_in_Shelter      2007 non-null   int64  \n",
      " 9   Adoption_Fee         2007 non-null   int64  \n",
      " 10  Previous_Owner       2007 non-null   int64  \n",
      " 11  Adoption_Likelihood  2007 non-null   int64  \n",
      "dtypes: float64(1), int64(7), object(4)\n",
      "memory usage: 203.8+ KB\n"
     ]
    }
   ],
   "source": [
    "# Review the info\n",
    "df_pet_adoption.info()"
   ]
  },
  {
   "cell_type": "code",
   "execution_count": 49,
   "id": "1cf4c5ec-297b-483d-b50c-3c819667fa71",
   "metadata": {},
   "outputs": [
    {
     "data": {
      "text/html": [
       "<div>\n",
       "<style scoped>\n",
       "    .dataframe tbody tr th:only-of-type {\n",
       "        vertical-align: middle;\n",
       "    }\n",
       "\n",
       "    .dataframe tbody tr th {\n",
       "        vertical-align: top;\n",
       "    }\n",
       "\n",
       "    .dataframe thead th {\n",
       "        text-align: right;\n",
       "    }\n",
       "</style>\n",
       "<table border=\"1\" class=\"dataframe\">\n",
       "  <thead>\n",
       "    <tr style=\"text-align: right;\">\n",
       "      <th></th>\n",
       "      <th>Age_in_Months</th>\n",
       "      <th>Weight_in_Kg</th>\n",
       "      <th>Vaccinated</th>\n",
       "      <th>Health_Condition</th>\n",
       "      <th>Days_in_Shelter</th>\n",
       "      <th>Adoption_Fee</th>\n",
       "      <th>Previous_Owner</th>\n",
       "      <th>Adoption_Likelihood</th>\n",
       "      <th>Pet_Type_Bird</th>\n",
       "      <th>Pet_Type_Cat</th>\n",
       "      <th>...</th>\n",
       "      <th>Breed_Rabbit</th>\n",
       "      <th>Breed_Siamese</th>\n",
       "      <th>Color_Black</th>\n",
       "      <th>Color_Brown</th>\n",
       "      <th>Color_Gray</th>\n",
       "      <th>Color_Orange</th>\n",
       "      <th>Color_White</th>\n",
       "      <th>Size_Large</th>\n",
       "      <th>Size_Medium</th>\n",
       "      <th>Size_Small</th>\n",
       "    </tr>\n",
       "    <tr>\n",
       "      <th>Pet_ID</th>\n",
       "      <th></th>\n",
       "      <th></th>\n",
       "      <th></th>\n",
       "      <th></th>\n",
       "      <th></th>\n",
       "      <th></th>\n",
       "      <th></th>\n",
       "      <th></th>\n",
       "      <th></th>\n",
       "      <th></th>\n",
       "      <th></th>\n",
       "      <th></th>\n",
       "      <th></th>\n",
       "      <th></th>\n",
       "      <th></th>\n",
       "      <th></th>\n",
       "      <th></th>\n",
       "      <th></th>\n",
       "      <th></th>\n",
       "      <th></th>\n",
       "      <th></th>\n",
       "    </tr>\n",
       "  </thead>\n",
       "  <tbody>\n",
       "    <tr>\n",
       "      <th>500</th>\n",
       "      <td>131</td>\n",
       "      <td>5.039768</td>\n",
       "      <td>1</td>\n",
       "      <td>0</td>\n",
       "      <td>27</td>\n",
       "      <td>140</td>\n",
       "      <td>0</td>\n",
       "      <td>0</td>\n",
       "      <td>True</td>\n",
       "      <td>False</td>\n",
       "      <td>...</td>\n",
       "      <td>False</td>\n",
       "      <td>False</td>\n",
       "      <td>False</td>\n",
       "      <td>False</td>\n",
       "      <td>False</td>\n",
       "      <td>True</td>\n",
       "      <td>False</td>\n",
       "      <td>True</td>\n",
       "      <td>False</td>\n",
       "      <td>False</td>\n",
       "    </tr>\n",
       "    <tr>\n",
       "      <th>501</th>\n",
       "      <td>73</td>\n",
       "      <td>16.086727</td>\n",
       "      <td>0</td>\n",
       "      <td>0</td>\n",
       "      <td>8</td>\n",
       "      <td>235</td>\n",
       "      <td>0</td>\n",
       "      <td>0</td>\n",
       "      <td>False</td>\n",
       "      <td>False</td>\n",
       "      <td>...</td>\n",
       "      <td>True</td>\n",
       "      <td>False</td>\n",
       "      <td>False</td>\n",
       "      <td>False</td>\n",
       "      <td>False</td>\n",
       "      <td>False</td>\n",
       "      <td>True</td>\n",
       "      <td>True</td>\n",
       "      <td>False</td>\n",
       "      <td>False</td>\n",
       "    </tr>\n",
       "    <tr>\n",
       "      <th>502</th>\n",
       "      <td>136</td>\n",
       "      <td>2.076286</td>\n",
       "      <td>0</td>\n",
       "      <td>0</td>\n",
       "      <td>85</td>\n",
       "      <td>385</td>\n",
       "      <td>0</td>\n",
       "      <td>0</td>\n",
       "      <td>False</td>\n",
       "      <td>False</td>\n",
       "      <td>...</td>\n",
       "      <td>False</td>\n",
       "      <td>False</td>\n",
       "      <td>False</td>\n",
       "      <td>False</td>\n",
       "      <td>False</td>\n",
       "      <td>True</td>\n",
       "      <td>False</td>\n",
       "      <td>False</td>\n",
       "      <td>True</td>\n",
       "      <td>False</td>\n",
       "    </tr>\n",
       "    <tr>\n",
       "      <th>503</th>\n",
       "      <td>97</td>\n",
       "      <td>3.339423</td>\n",
       "      <td>0</td>\n",
       "      <td>0</td>\n",
       "      <td>61</td>\n",
       "      <td>217</td>\n",
       "      <td>1</td>\n",
       "      <td>0</td>\n",
       "      <td>True</td>\n",
       "      <td>False</td>\n",
       "      <td>...</td>\n",
       "      <td>False</td>\n",
       "      <td>False</td>\n",
       "      <td>False</td>\n",
       "      <td>False</td>\n",
       "      <td>False</td>\n",
       "      <td>False</td>\n",
       "      <td>True</td>\n",
       "      <td>False</td>\n",
       "      <td>False</td>\n",
       "      <td>True</td>\n",
       "    </tr>\n",
       "    <tr>\n",
       "      <th>504</th>\n",
       "      <td>123</td>\n",
       "      <td>20.498100</td>\n",
       "      <td>0</td>\n",
       "      <td>0</td>\n",
       "      <td>28</td>\n",
       "      <td>14</td>\n",
       "      <td>1</td>\n",
       "      <td>0</td>\n",
       "      <td>False</td>\n",
       "      <td>False</td>\n",
       "      <td>...</td>\n",
       "      <td>True</td>\n",
       "      <td>False</td>\n",
       "      <td>False</td>\n",
       "      <td>False</td>\n",
       "      <td>True</td>\n",
       "      <td>False</td>\n",
       "      <td>False</td>\n",
       "      <td>True</td>\n",
       "      <td>False</td>\n",
       "      <td>False</td>\n",
       "    </tr>\n",
       "    <tr>\n",
       "      <th>...</th>\n",
       "      <td>...</td>\n",
       "      <td>...</td>\n",
       "      <td>...</td>\n",
       "      <td>...</td>\n",
       "      <td>...</td>\n",
       "      <td>...</td>\n",
       "      <td>...</td>\n",
       "      <td>...</td>\n",
       "      <td>...</td>\n",
       "      <td>...</td>\n",
       "      <td>...</td>\n",
       "      <td>...</td>\n",
       "      <td>...</td>\n",
       "      <td>...</td>\n",
       "      <td>...</td>\n",
       "      <td>...</td>\n",
       "      <td>...</td>\n",
       "      <td>...</td>\n",
       "      <td>...</td>\n",
       "      <td>...</td>\n",
       "      <td>...</td>\n",
       "    </tr>\n",
       "    <tr>\n",
       "      <th>2502</th>\n",
       "      <td>72</td>\n",
       "      <td>27.039045</td>\n",
       "      <td>1</td>\n",
       "      <td>0</td>\n",
       "      <td>66</td>\n",
       "      <td>26</td>\n",
       "      <td>1</td>\n",
       "      <td>1</td>\n",
       "      <td>False</td>\n",
       "      <td>False</td>\n",
       "      <td>...</td>\n",
       "      <td>False</td>\n",
       "      <td>False</td>\n",
       "      <td>False</td>\n",
       "      <td>False</td>\n",
       "      <td>False</td>\n",
       "      <td>True</td>\n",
       "      <td>False</td>\n",
       "      <td>False</td>\n",
       "      <td>False</td>\n",
       "      <td>True</td>\n",
       "    </tr>\n",
       "    <tr>\n",
       "      <th>2503</th>\n",
       "      <td>124</td>\n",
       "      <td>4.726954</td>\n",
       "      <td>1</td>\n",
       "      <td>1</td>\n",
       "      <td>59</td>\n",
       "      <td>150</td>\n",
       "      <td>0</td>\n",
       "      <td>0</td>\n",
       "      <td>False</td>\n",
       "      <td>False</td>\n",
       "      <td>...</td>\n",
       "      <td>True</td>\n",
       "      <td>False</td>\n",
       "      <td>False</td>\n",
       "      <td>True</td>\n",
       "      <td>False</td>\n",
       "      <td>False</td>\n",
       "      <td>False</td>\n",
       "      <td>False</td>\n",
       "      <td>False</td>\n",
       "      <td>True</td>\n",
       "    </tr>\n",
       "    <tr>\n",
       "      <th>2504</th>\n",
       "      <td>113</td>\n",
       "      <td>1.758592</td>\n",
       "      <td>1</td>\n",
       "      <td>0</td>\n",
       "      <td>68</td>\n",
       "      <td>302</td>\n",
       "      <td>0</td>\n",
       "      <td>0</td>\n",
       "      <td>False</td>\n",
       "      <td>False</td>\n",
       "      <td>...</td>\n",
       "      <td>True</td>\n",
       "      <td>False</td>\n",
       "      <td>False</td>\n",
       "      <td>False</td>\n",
       "      <td>False</td>\n",
       "      <td>True</td>\n",
       "      <td>False</td>\n",
       "      <td>False</td>\n",
       "      <td>False</td>\n",
       "      <td>True</td>\n",
       "    </tr>\n",
       "    <tr>\n",
       "      <th>2505</th>\n",
       "      <td>12</td>\n",
       "      <td>20.961592</td>\n",
       "      <td>1</td>\n",
       "      <td>0</td>\n",
       "      <td>59</td>\n",
       "      <td>478</td>\n",
       "      <td>0</td>\n",
       "      <td>0</td>\n",
       "      <td>False</td>\n",
       "      <td>False</td>\n",
       "      <td>...</td>\n",
       "      <td>False</td>\n",
       "      <td>False</td>\n",
       "      <td>False</td>\n",
       "      <td>False</td>\n",
       "      <td>True</td>\n",
       "      <td>False</td>\n",
       "      <td>False</td>\n",
       "      <td>True</td>\n",
       "      <td>False</td>\n",
       "      <td>False</td>\n",
       "    </tr>\n",
       "    <tr>\n",
       "      <th>2506</th>\n",
       "      <td>126</td>\n",
       "      <td>18.519788</td>\n",
       "      <td>1</td>\n",
       "      <td>0</td>\n",
       "      <td>10</td>\n",
       "      <td>267</td>\n",
       "      <td>1</td>\n",
       "      <td>0</td>\n",
       "      <td>False</td>\n",
       "      <td>False</td>\n",
       "      <td>...</td>\n",
       "      <td>True</td>\n",
       "      <td>False</td>\n",
       "      <td>False</td>\n",
       "      <td>False</td>\n",
       "      <td>False</td>\n",
       "      <td>False</td>\n",
       "      <td>True</td>\n",
       "      <td>False</td>\n",
       "      <td>True</td>\n",
       "      <td>False</td>\n",
       "    </tr>\n",
       "  </tbody>\n",
       "</table>\n",
       "<p>2007 rows × 27 columns</p>\n",
       "</div>"
      ],
      "text/plain": [
       "        Age_in_Months  Weight_in_Kg  Vaccinated  Health_Condition  \\\n",
       "Pet_ID                                                              \n",
       "500               131      5.039768           1                 0   \n",
       "501                73     16.086727           0                 0   \n",
       "502               136      2.076286           0                 0   \n",
       "503                97      3.339423           0                 0   \n",
       "504               123     20.498100           0                 0   \n",
       "...               ...           ...         ...               ...   \n",
       "2502               72     27.039045           1                 0   \n",
       "2503              124      4.726954           1                 1   \n",
       "2504              113      1.758592           1                 0   \n",
       "2505               12     20.961592           1                 0   \n",
       "2506              126     18.519788           1                 0   \n",
       "\n",
       "        Days_in_Shelter  Adoption_Fee  Previous_Owner  Adoption_Likelihood  \\\n",
       "Pet_ID                                                                       \n",
       "500                  27           140               0                    0   \n",
       "501                   8           235               0                    0   \n",
       "502                  85           385               0                    0   \n",
       "503                  61           217               1                    0   \n",
       "504                  28            14               1                    0   \n",
       "...                 ...           ...             ...                  ...   \n",
       "2502                 66            26               1                    1   \n",
       "2503                 59           150               0                    0   \n",
       "2504                 68           302               0                    0   \n",
       "2505                 59           478               0                    0   \n",
       "2506                 10           267               1                    0   \n",
       "\n",
       "        Pet_Type_Bird  Pet_Type_Cat  ...  Breed_Rabbit  Breed_Siamese  \\\n",
       "Pet_ID                               ...                                \n",
       "500              True         False  ...         False          False   \n",
       "501             False         False  ...          True          False   \n",
       "502             False         False  ...         False          False   \n",
       "503              True         False  ...         False          False   \n",
       "504             False         False  ...          True          False   \n",
       "...               ...           ...  ...           ...            ...   \n",
       "2502            False         False  ...         False          False   \n",
       "2503            False         False  ...          True          False   \n",
       "2504            False         False  ...          True          False   \n",
       "2505            False         False  ...         False          False   \n",
       "2506            False         False  ...          True          False   \n",
       "\n",
       "        Color_Black  Color_Brown  Color_Gray  Color_Orange  Color_White  \\\n",
       "Pet_ID                                                                    \n",
       "500           False        False       False          True        False   \n",
       "501           False        False       False         False         True   \n",
       "502           False        False       False          True        False   \n",
       "503           False        False       False         False         True   \n",
       "504           False        False        True         False        False   \n",
       "...             ...          ...         ...           ...          ...   \n",
       "2502          False        False       False          True        False   \n",
       "2503          False         True       False         False        False   \n",
       "2504          False        False       False          True        False   \n",
       "2505          False        False        True         False        False   \n",
       "2506          False        False       False         False         True   \n",
       "\n",
       "        Size_Large  Size_Medium  Size_Small  \n",
       "Pet_ID                                       \n",
       "500           True        False       False  \n",
       "501           True        False       False  \n",
       "502          False         True       False  \n",
       "503          False        False        True  \n",
       "504           True        False       False  \n",
       "...            ...          ...         ...  \n",
       "2502         False        False        True  \n",
       "2503         False        False        True  \n",
       "2504         False        False        True  \n",
       "2505          True        False       False  \n",
       "2506         False         True       False  \n",
       "\n",
       "[2007 rows x 27 columns]"
      ]
     },
     "execution_count": 49,
     "metadata": {},
     "output_type": "execute_result"
    }
   ],
   "source": [
    "# Convert categorical data to numeric with `pd.get_dummies`\n",
    "df_pet_adoption_dummies = pd.get_dummies(df_pet_adoption, columns=[\n",
    "    'Pet_Type', 'Breed', 'Color', 'Size'\n",
    "])\n",
    "# Display the transformed data\n",
    "df_pet_adoption_dummies"
   ]
  },
  {
   "cell_type": "code",
   "execution_count": 109,
   "id": "2f557321-a711-433a-9c2c-9c06e9e06605",
   "metadata": {},
   "outputs": [
    {
     "data": {
      "text/plain": [
       "['Age_in_Months',\n",
       " 'Weight_in_Kg',\n",
       " 'Vaccinated',\n",
       " 'Health_Condition',\n",
       " 'Days_in_Shelter',\n",
       " 'Adoption_Fee',\n",
       " 'Previous_Owner',\n",
       " 'Adoption_Likelihood',\n",
       " 'Pet_Type_Bird',\n",
       " 'Pet_Type_Cat',\n",
       " 'Pet_Type_Dog',\n",
       " 'Pet_Type_Rabbit',\n",
       " 'Breed_Golden Retriever',\n",
       " 'Breed_Labrador',\n",
       " 'Breed_Parakeet',\n",
       " 'Breed_Persian',\n",
       " 'Breed_Poodle',\n",
       " 'Breed_Rabbit',\n",
       " 'Breed_Siamese',\n",
       " 'Color_Black',\n",
       " 'Color_Brown',\n",
       " 'Color_Gray',\n",
       " 'Color_Orange',\n",
       " 'Color_White',\n",
       " 'Size_Large',\n",
       " 'Size_Medium',\n",
       " 'Size_Small']"
      ]
     },
     "execution_count": 109,
     "metadata": {},
     "output_type": "execute_result"
    }
   ],
   "source": [
    "df_pet_adoption_dummies.columns.values.tolist()"
   ]
  },
  {
   "cell_type": "markdown",
   "id": "ac866f2c-9a97-404b-ac8d-4f97d02fca7c",
   "metadata": {},
   "source": [
    "# Create a Logistic Regression Model "
   ]
  },
  {
   "cell_type": "code",
   "execution_count": 51,
   "id": "f3fa8231-bc7b-470e-93c8-bb797dbdd9b2",
   "metadata": {},
   "outputs": [],
   "source": [
    "# Separate the data into labels and features\n",
    "\n",
    "# Separate the y variable, the labels\n",
    "y = df_pet_adoption_dummies[\"Adoption_Likelihood\"]\n",
    "\n",
    "# Separate the X variable, the features\n",
    "X = df_pet_adoption_dummies.drop(columns=[\"Adoption_Likelihood\"])\n"
   ]
  },
  {
   "cell_type": "code",
   "execution_count": 52,
   "id": "1b4b2b67-510e-4eb2-b3a5-28b9c2818640",
   "metadata": {},
   "outputs": [
    {
     "data": {
      "text/plain": [
       "(1505, 26)"
      ]
     },
     "execution_count": 52,
     "metadata": {},
     "output_type": "execute_result"
    }
   ],
   "source": [
    "# Split the data using train_test_split\n",
    "# Assign a random_state of 1 to the function\n",
    "X_train, X_test, y_train, y_test = train_test_split(X, y, random_state=1)\n",
    "X_train.shape"
   ]
  },
  {
   "cell_type": "code",
   "execution_count": 53,
   "id": "a6fbacfa-7415-45e8-a756-e3caa23daddc",
   "metadata": {},
   "outputs": [],
   "source": [
    "# Import the LogisticRegression module from SKLearn\n",
    "from sklearn.linear_model import LogisticRegression\n",
    "\n",
    "# Ensure y_train is a 1D array\n",
    "y_train = y_train.ravel()\n",
    "\n",
    "# Instantiate the Logistic Regression model\n",
    "# Assign a random_state parameter of 1 to the model\n",
    "\n",
    "logistic_regression_model = LogisticRegression(solver='lbfgs',max_iter=1000, random_state=1)\n",
    "\n",
    "# Fit the model using training data\n",
    "lr_model = logistic_regression_model.fit(X_train, y_train)"
   ]
  },
  {
   "cell_type": "code",
   "execution_count": 54,
   "id": "4b898199-7cbb-4d37-b84d-2f1b2da821cf",
   "metadata": {},
   "outputs": [
    {
     "name": "stdout",
     "output_type": "stream",
     "text": [
      "Training Data Score: 0.9089700996677741\n",
      "Testing Data Score: 0.9083665338645418\n"
     ]
    }
   ],
   "source": [
    "#Score the model using the test data\n",
    "\n",
    "print(f\"Training Data Score: {lr_model.score(X_train, y_train)}\")\n",
    "print(f\"Testing Data Score: {lr_model.score(X_test, y_test)}\")"
   ]
  },
  {
   "cell_type": "code",
   "execution_count": 63,
   "id": "4480b127-e9b1-49dd-8c04-d56b0af41d21",
   "metadata": {},
   "outputs": [],
   "source": [
    "# Make a prediction using the testing data\n",
    "#Generate testing and training predictions\n",
    "\n",
    "training_predictions = lr_model.predict(X_train)\n",
    "testing_predictions = logistic_regression_model.predict(X_test)\n"
   ]
  },
  {
   "cell_type": "code",
   "execution_count": 64,
   "id": "e2befece-3fec-4746-845f-b6d1b87c4638",
   "metadata": {},
   "outputs": [
    {
     "data": {
      "text/html": [
       "<div>\n",
       "<style scoped>\n",
       "    .dataframe tbody tr th:only-of-type {\n",
       "        vertical-align: middle;\n",
       "    }\n",
       "\n",
       "    .dataframe tbody tr th {\n",
       "        vertical-align: top;\n",
       "    }\n",
       "\n",
       "    .dataframe thead th {\n",
       "        text-align: right;\n",
       "    }\n",
       "</style>\n",
       "<table border=\"1\" class=\"dataframe\">\n",
       "  <thead>\n",
       "    <tr style=\"text-align: right;\">\n",
       "      <th></th>\n",
       "      <th>Prediction</th>\n",
       "      <th>Actual</th>\n",
       "    </tr>\n",
       "  </thead>\n",
       "  <tbody>\n",
       "    <tr>\n",
       "      <th>0</th>\n",
       "      <td>0</td>\n",
       "      <td>0</td>\n",
       "    </tr>\n",
       "    <tr>\n",
       "      <th>1</th>\n",
       "      <td>0</td>\n",
       "      <td>0</td>\n",
       "    </tr>\n",
       "    <tr>\n",
       "      <th>2</th>\n",
       "      <td>0</td>\n",
       "      <td>0</td>\n",
       "    </tr>\n",
       "    <tr>\n",
       "      <th>3</th>\n",
       "      <td>1</td>\n",
       "      <td>1</td>\n",
       "    </tr>\n",
       "    <tr>\n",
       "      <th>4</th>\n",
       "      <td>1</td>\n",
       "      <td>1</td>\n",
       "    </tr>\n",
       "    <tr>\n",
       "      <th>...</th>\n",
       "      <td>...</td>\n",
       "      <td>...</td>\n",
       "    </tr>\n",
       "    <tr>\n",
       "      <th>497</th>\n",
       "      <td>0</td>\n",
       "      <td>0</td>\n",
       "    </tr>\n",
       "    <tr>\n",
       "      <th>498</th>\n",
       "      <td>0</td>\n",
       "      <td>0</td>\n",
       "    </tr>\n",
       "    <tr>\n",
       "      <th>499</th>\n",
       "      <td>1</td>\n",
       "      <td>1</td>\n",
       "    </tr>\n",
       "    <tr>\n",
       "      <th>500</th>\n",
       "      <td>0</td>\n",
       "      <td>0</td>\n",
       "    </tr>\n",
       "    <tr>\n",
       "      <th>501</th>\n",
       "      <td>1</td>\n",
       "      <td>1</td>\n",
       "    </tr>\n",
       "  </tbody>\n",
       "</table>\n",
       "<p>502 rows × 2 columns</p>\n",
       "</div>"
      ],
      "text/plain": [
       "     Prediction  Actual\n",
       "0             0       0\n",
       "1             0       0\n",
       "2             0       0\n",
       "3             1       1\n",
       "4             1       1\n",
       "..          ...     ...\n",
       "497           0       0\n",
       "498           0       0\n",
       "499           1       1\n",
       "500           0       0\n",
       "501           1       1\n",
       "\n",
       "[502 rows x 2 columns]"
      ]
     },
     "execution_count": 64,
     "metadata": {},
     "output_type": "execute_result"
    }
   ],
   "source": [
    "# Predict outcomes for test data set and show in a dataframe\n",
    "results_df = pd.DataFrame({\"Prediction\": testing_predictions, \"Actual\":y_test})\n",
    "results_df.reset_index(drop=True, inplace=True)\n",
    "results_df"
   ]
  },
  {
   "cell_type": "code",
   "execution_count": 65,
   "id": "df2f1e7a-17fa-4744-906b-a02dcc6ad985",
   "metadata": {},
   "outputs": [
    {
     "data": {
      "text/plain": [
       "0.9083665338645418"
      ]
     },
     "execution_count": 65,
     "metadata": {},
     "output_type": "execute_result"
    }
   ],
   "source": [
    "from sklearn.metrics import accuracy_score\n",
    "# Display the accuracy score for the test dataset.\n",
    "accuracy_score(y_test, testing_predictions)"
   ]
  },
  {
   "cell_type": "code",
   "execution_count": 66,
   "id": "6f13b1d2-a515-4dbf-a7a4-a0aa81bdb617",
   "metadata": {},
   "outputs": [
    {
     "data": {
      "text/plain": [
       "array([[334,   9],\n",
       "       [ 37, 122]], dtype=int64)"
      ]
     },
     "execution_count": 66,
     "metadata": {},
     "output_type": "execute_result"
    }
   ],
   "source": [
    "# Generate a confusion matrix for the model\n",
    "confusion_matrix(y_test, testing_predictions)"
   ]
  },
  {
   "cell_type": "code",
   "execution_count": 67,
   "id": "71ad0dde-aeb1-428d-80b1-b36474fcabdd",
   "metadata": {},
   "outputs": [
    {
     "name": "stdout",
     "output_type": "stream",
     "text": [
      "              precision    recall  f1-score   support\n",
      "\n",
      "           0       0.90      0.97      0.94       343\n",
      "           1       0.93      0.77      0.84       159\n",
      "\n",
      "    accuracy                           0.91       502\n",
      "   macro avg       0.92      0.87      0.89       502\n",
      "weighted avg       0.91      0.91      0.91       502\n",
      "\n"
     ]
    }
   ],
   "source": [
    "# Print the classification report for the model\n",
    "testing_report = classification_report(y_test, testing_predictions)\n",
    "\n",
    "# Print the testing classification report\n",
    "print(testing_report)"
   ]
  },
  {
   "cell_type": "markdown",
   "id": "c12a281d-78e6-45ed-ba77-68326c56ffc2",
   "metadata": {},
   "source": [
    "## Matrix and score on training data for comparison"
   ]
  },
  {
   "cell_type": "code",
   "execution_count": 68,
   "id": "9320d3d0-e131-4068-928e-864c74043bee",
   "metadata": {},
   "outputs": [
    {
     "name": "stdout",
     "output_type": "stream",
     "text": [
      "[[978  27]\n",
      " [110 390]]\n"
     ]
    }
   ],
   "source": [
    "# Create and save the confusion matrix for the training data\n",
    "training_matrix = confusion_matrix(y_train, training_predictions)\n",
    "\n",
    "# Print the confusion matrix for the training data\n",
    "print(training_matrix)"
   ]
  },
  {
   "cell_type": "code",
   "execution_count": 69,
   "id": "83792eac-3a6e-4f12-8c21-c12050c836bf",
   "metadata": {},
   "outputs": [
    {
     "name": "stdout",
     "output_type": "stream",
     "text": [
      "              precision    recall  f1-score   support\n",
      "\n",
      "           0       0.90      0.97      0.93      1005\n",
      "           1       0.94      0.78      0.85       500\n",
      "\n",
      "    accuracy                           0.91      1505\n",
      "   macro avg       0.92      0.88      0.89      1505\n",
      "weighted avg       0.91      0.91      0.91      1505\n",
      "\n"
     ]
    }
   ],
   "source": [
    "# Create and save the training classification report\n",
    "training_report = classification_report(y_train, training_predictions)\n",
    "\n",
    "# Print the training classification report\n",
    "print(training_report)"
   ]
  },
  {
   "cell_type": "code",
   "execution_count": null,
   "id": "aa039b57-05f6-4f19-b7b0-29e4ef699c0a",
   "metadata": {},
   "outputs": [],
   "source": []
  },
  {
   "cell_type": "markdown",
   "id": "06c72d1a-26dd-4142-ad43-6b315254e8c6",
   "metadata": {},
   "source": [
    "# Predicting Adoption with Random Forest Model"
   ]
  },
  {
   "cell_type": "code",
   "execution_count": 82,
   "id": "9fc4f5f3-63ee-4a6b-9e20-f30fa8f98ace",
   "metadata": {},
   "outputs": [
    {
     "data": {
      "text/html": [
       "<div>\n",
       "<style scoped>\n",
       "    .dataframe tbody tr th:only-of-type {\n",
       "        vertical-align: middle;\n",
       "    }\n",
       "\n",
       "    .dataframe tbody tr th {\n",
       "        vertical-align: top;\n",
       "    }\n",
       "\n",
       "    .dataframe thead th {\n",
       "        text-align: right;\n",
       "    }\n",
       "</style>\n",
       "<table border=\"1\" class=\"dataframe\">\n",
       "  <thead>\n",
       "    <tr style=\"text-align: right;\">\n",
       "      <th></th>\n",
       "      <th>Age_in_Months</th>\n",
       "      <th>Weight_in_Kg</th>\n",
       "      <th>Vaccinated</th>\n",
       "      <th>Health_Condition</th>\n",
       "      <th>Days_in_Shelter</th>\n",
       "      <th>Adoption_Fee</th>\n",
       "      <th>Previous_Owner</th>\n",
       "      <th>Pet_Type_Bird</th>\n",
       "      <th>Pet_Type_Cat</th>\n",
       "      <th>Pet_Type_Dog</th>\n",
       "      <th>...</th>\n",
       "      <th>Breed_Rabbit</th>\n",
       "      <th>Breed_Siamese</th>\n",
       "      <th>Color_Black</th>\n",
       "      <th>Color_Brown</th>\n",
       "      <th>Color_Gray</th>\n",
       "      <th>Color_Orange</th>\n",
       "      <th>Color_White</th>\n",
       "      <th>Size_Large</th>\n",
       "      <th>Size_Medium</th>\n",
       "      <th>Size_Small</th>\n",
       "    </tr>\n",
       "    <tr>\n",
       "      <th>Pet_ID</th>\n",
       "      <th></th>\n",
       "      <th></th>\n",
       "      <th></th>\n",
       "      <th></th>\n",
       "      <th></th>\n",
       "      <th></th>\n",
       "      <th></th>\n",
       "      <th></th>\n",
       "      <th></th>\n",
       "      <th></th>\n",
       "      <th></th>\n",
       "      <th></th>\n",
       "      <th></th>\n",
       "      <th></th>\n",
       "      <th></th>\n",
       "      <th></th>\n",
       "      <th></th>\n",
       "      <th></th>\n",
       "      <th></th>\n",
       "      <th></th>\n",
       "      <th></th>\n",
       "    </tr>\n",
       "  </thead>\n",
       "  <tbody>\n",
       "    <tr>\n",
       "      <th>500</th>\n",
       "      <td>131</td>\n",
       "      <td>5.039768</td>\n",
       "      <td>1</td>\n",
       "      <td>0</td>\n",
       "      <td>27</td>\n",
       "      <td>140</td>\n",
       "      <td>0</td>\n",
       "      <td>True</td>\n",
       "      <td>False</td>\n",
       "      <td>False</td>\n",
       "      <td>...</td>\n",
       "      <td>False</td>\n",
       "      <td>False</td>\n",
       "      <td>False</td>\n",
       "      <td>False</td>\n",
       "      <td>False</td>\n",
       "      <td>True</td>\n",
       "      <td>False</td>\n",
       "      <td>True</td>\n",
       "      <td>False</td>\n",
       "      <td>False</td>\n",
       "    </tr>\n",
       "    <tr>\n",
       "      <th>501</th>\n",
       "      <td>73</td>\n",
       "      <td>16.086727</td>\n",
       "      <td>0</td>\n",
       "      <td>0</td>\n",
       "      <td>8</td>\n",
       "      <td>235</td>\n",
       "      <td>0</td>\n",
       "      <td>False</td>\n",
       "      <td>False</td>\n",
       "      <td>False</td>\n",
       "      <td>...</td>\n",
       "      <td>True</td>\n",
       "      <td>False</td>\n",
       "      <td>False</td>\n",
       "      <td>False</td>\n",
       "      <td>False</td>\n",
       "      <td>False</td>\n",
       "      <td>True</td>\n",
       "      <td>True</td>\n",
       "      <td>False</td>\n",
       "      <td>False</td>\n",
       "    </tr>\n",
       "    <tr>\n",
       "      <th>502</th>\n",
       "      <td>136</td>\n",
       "      <td>2.076286</td>\n",
       "      <td>0</td>\n",
       "      <td>0</td>\n",
       "      <td>85</td>\n",
       "      <td>385</td>\n",
       "      <td>0</td>\n",
       "      <td>False</td>\n",
       "      <td>False</td>\n",
       "      <td>True</td>\n",
       "      <td>...</td>\n",
       "      <td>False</td>\n",
       "      <td>False</td>\n",
       "      <td>False</td>\n",
       "      <td>False</td>\n",
       "      <td>False</td>\n",
       "      <td>True</td>\n",
       "      <td>False</td>\n",
       "      <td>False</td>\n",
       "      <td>True</td>\n",
       "      <td>False</td>\n",
       "    </tr>\n",
       "    <tr>\n",
       "      <th>503</th>\n",
       "      <td>97</td>\n",
       "      <td>3.339423</td>\n",
       "      <td>0</td>\n",
       "      <td>0</td>\n",
       "      <td>61</td>\n",
       "      <td>217</td>\n",
       "      <td>1</td>\n",
       "      <td>True</td>\n",
       "      <td>False</td>\n",
       "      <td>False</td>\n",
       "      <td>...</td>\n",
       "      <td>False</td>\n",
       "      <td>False</td>\n",
       "      <td>False</td>\n",
       "      <td>False</td>\n",
       "      <td>False</td>\n",
       "      <td>False</td>\n",
       "      <td>True</td>\n",
       "      <td>False</td>\n",
       "      <td>False</td>\n",
       "      <td>True</td>\n",
       "    </tr>\n",
       "    <tr>\n",
       "      <th>504</th>\n",
       "      <td>123</td>\n",
       "      <td>20.498100</td>\n",
       "      <td>0</td>\n",
       "      <td>0</td>\n",
       "      <td>28</td>\n",
       "      <td>14</td>\n",
       "      <td>1</td>\n",
       "      <td>False</td>\n",
       "      <td>False</td>\n",
       "      <td>False</td>\n",
       "      <td>...</td>\n",
       "      <td>True</td>\n",
       "      <td>False</td>\n",
       "      <td>False</td>\n",
       "      <td>False</td>\n",
       "      <td>True</td>\n",
       "      <td>False</td>\n",
       "      <td>False</td>\n",
       "      <td>True</td>\n",
       "      <td>False</td>\n",
       "      <td>False</td>\n",
       "    </tr>\n",
       "  </tbody>\n",
       "</table>\n",
       "<p>5 rows × 26 columns</p>\n",
       "</div>"
      ],
      "text/plain": [
       "        Age_in_Months  Weight_in_Kg  Vaccinated  Health_Condition  \\\n",
       "Pet_ID                                                              \n",
       "500               131      5.039768           1                 0   \n",
       "501                73     16.086727           0                 0   \n",
       "502               136      2.076286           0                 0   \n",
       "503                97      3.339423           0                 0   \n",
       "504               123     20.498100           0                 0   \n",
       "\n",
       "        Days_in_Shelter  Adoption_Fee  Previous_Owner  Pet_Type_Bird  \\\n",
       "Pet_ID                                                                 \n",
       "500                  27           140               0           True   \n",
       "501                   8           235               0          False   \n",
       "502                  85           385               0          False   \n",
       "503                  61           217               1           True   \n",
       "504                  28            14               1          False   \n",
       "\n",
       "        Pet_Type_Cat  Pet_Type_Dog  ...  Breed_Rabbit  Breed_Siamese  \\\n",
       "Pet_ID                              ...                                \n",
       "500            False         False  ...         False          False   \n",
       "501            False         False  ...          True          False   \n",
       "502            False          True  ...         False          False   \n",
       "503            False         False  ...         False          False   \n",
       "504            False         False  ...          True          False   \n",
       "\n",
       "        Color_Black  Color_Brown  Color_Gray  Color_Orange  Color_White  \\\n",
       "Pet_ID                                                                    \n",
       "500           False        False       False          True        False   \n",
       "501           False        False       False         False         True   \n",
       "502           False        False       False          True        False   \n",
       "503           False        False       False         False         True   \n",
       "504           False        False        True         False        False   \n",
       "\n",
       "        Size_Large  Size_Medium  Size_Small  \n",
       "Pet_ID                                       \n",
       "500           True        False       False  \n",
       "501           True        False       False  \n",
       "502          False         True       False  \n",
       "503          False        False        True  \n",
       "504           True        False       False  \n",
       "\n",
       "[5 rows x 26 columns]"
      ]
     },
     "execution_count": 82,
     "metadata": {},
     "output_type": "execute_result"
    }
   ],
   "source": [
    "# Define features set\n",
    "X_rf = df_pet_adoption_dummies.copy()\n",
    "X_rf.drop(\"Adoption_Likelihood\", axis=1, inplace=True)\n",
    "X_rf.head()"
   ]
  },
  {
   "cell_type": "code",
   "execution_count": 95,
   "id": "3fb36eaa-d95e-4b82-b24b-f50bad34bbde",
   "metadata": {},
   "outputs": [
    {
     "data": {
      "text/plain": [
       "array([0, 0, 0, 0, 0], dtype=int64)"
      ]
     },
     "execution_count": 95,
     "metadata": {},
     "output_type": "execute_result"
    }
   ],
   "source": [
    "# Define target vector\n",
    "y_rf = df_pet_adoption_dummies[\"Adoption_Likelihood\"].ravel()\n",
    "\n",
    "y[:5]"
   ]
  },
  {
   "cell_type": "code",
   "execution_count": 84,
   "id": "305020d7-ff0a-4c8c-b366-6c1964bdbae6",
   "metadata": {},
   "outputs": [],
   "source": [
    "# Splitting into Train and Test sets\n",
    "X_rf_train, X_rf_test, y_rf_train, y_rf_test = train_test_split(X_rf, y_rf, random_state=78)"
   ]
  },
  {
   "cell_type": "code",
   "execution_count": 72,
   "id": "d3ef6cfd-0726-4474-adbe-05c6dfd662a9",
   "metadata": {},
   "outputs": [],
   "source": [
    "# Create the StandardScaler instance\n",
    "scaler = StandardScaler()"
   ]
  },
  {
   "cell_type": "code",
   "execution_count": 86,
   "id": "3affac97-5c4e-4b8f-8950-5a04773f2083",
   "metadata": {},
   "outputs": [],
   "source": [
    "# Fit the Standard Scaler with the training data\n",
    "X_scaler = scaler.fit(X_rf_train)"
   ]
  },
  {
   "cell_type": "code",
   "execution_count": 87,
   "id": "702c20f4-d0c2-45a7-b35a-0ca6e9bd5d38",
   "metadata": {},
   "outputs": [],
   "source": [
    "# Scale the training data\n",
    "X_train_scaled = X_scaler.transform(X_rf_train)\n",
    "X_test_scaled = X_scaler.transform(X_rf_test)"
   ]
  },
  {
   "cell_type": "markdown",
   "id": "fc74610c-2de6-4b6c-a657-9e4049b68164",
   "metadata": {},
   "source": [
    "## Fitting the Random Forest Model\n"
   ]
  },
  {
   "cell_type": "code",
   "execution_count": 96,
   "id": "0657ccfa-6121-4cf6-9478-0f6f9f68d354",
   "metadata": {},
   "outputs": [],
   "source": [
    "# Create a random forest classifier\n",
    "rf_model = RandomForestClassifier(n_estimators=500, random_state=78)"
   ]
  },
  {
   "cell_type": "code",
   "execution_count": 97,
   "id": "7ad6da30-5457-4b96-abc6-05a21c76939d",
   "metadata": {},
   "outputs": [],
   "source": [
    "# Fitting the model\n",
    "rf_model = rf_model.fit(X_train_scaled, y_rf_train)"
   ]
  },
  {
   "cell_type": "markdown",
   "id": "bc2ed815-3ada-4ac3-8fce-69fd2d613ca4",
   "metadata": {},
   "source": [
    "## Making Predictions Using the Random Forest Model"
   ]
  },
  {
   "cell_type": "code",
   "execution_count": 90,
   "id": "3f1d1ded-4c58-4488-85e2-bab76f719ddf",
   "metadata": {},
   "outputs": [],
   "source": [
    "# Making predictions using the testing data\n",
    "predictions = rf_model.predict(X_test_scaled)"
   ]
  },
  {
   "cell_type": "markdown",
   "id": "7a46f829-54d9-4f02-9b48-8d7dafee51ae",
   "metadata": {},
   "source": [
    "## Model Evaluation"
   ]
  },
  {
   "cell_type": "code",
   "execution_count": 91,
   "id": "406d68bd-6137-4433-890b-f2945939104b",
   "metadata": {},
   "outputs": [],
   "source": [
    "# Calculating the confusion matrix\n",
    "cm = confusion_matrix(y_rf_test, predictions)\n",
    "cm_df = pd.DataFrame(\n",
    "    cm, index=[\"Actual 0\", \"Actual 1\"], columns=[\"Predicted 0\", \"Predicted 1\"]\n",
    ")\n",
    "\n",
    "# Calculating the accuracy score\n",
    "acc_score = accuracy_score(y_rf_test, predictions)"
   ]
  },
  {
   "cell_type": "code",
   "execution_count": 92,
   "id": "bfcffaaa-9765-43fd-8a20-89a40b2c6dbe",
   "metadata": {},
   "outputs": [
    {
     "name": "stdout",
     "output_type": "stream",
     "text": [
      "Confusion Matrix\n"
     ]
    },
    {
     "data": {
      "text/html": [
       "<div>\n",
       "<style scoped>\n",
       "    .dataframe tbody tr th:only-of-type {\n",
       "        vertical-align: middle;\n",
       "    }\n",
       "\n",
       "    .dataframe tbody tr th {\n",
       "        vertical-align: top;\n",
       "    }\n",
       "\n",
       "    .dataframe thead th {\n",
       "        text-align: right;\n",
       "    }\n",
       "</style>\n",
       "<table border=\"1\" class=\"dataframe\">\n",
       "  <thead>\n",
       "    <tr style=\"text-align: right;\">\n",
       "      <th></th>\n",
       "      <th>Predicted 0</th>\n",
       "      <th>Predicted 1</th>\n",
       "    </tr>\n",
       "  </thead>\n",
       "  <tbody>\n",
       "    <tr>\n",
       "      <th>Actual 0</th>\n",
       "      <td>338</td>\n",
       "      <td>9</td>\n",
       "    </tr>\n",
       "    <tr>\n",
       "      <th>Actual 1</th>\n",
       "      <td>24</td>\n",
       "      <td>131</td>\n",
       "    </tr>\n",
       "  </tbody>\n",
       "</table>\n",
       "</div>"
      ],
      "text/plain": [
       "          Predicted 0  Predicted 1\n",
       "Actual 0          338            9\n",
       "Actual 1           24          131"
      ]
     },
     "metadata": {},
     "output_type": "display_data"
    },
    {
     "name": "stdout",
     "output_type": "stream",
     "text": [
      "Accuracy Score : 0.9342629482071713\n",
      "Classification Report\n",
      "              precision    recall  f1-score   support\n",
      "\n",
      "           0       0.93      0.97      0.95       347\n",
      "           1       0.94      0.85      0.89       155\n",
      "\n",
      "    accuracy                           0.93       502\n",
      "   macro avg       0.93      0.91      0.92       502\n",
      "weighted avg       0.93      0.93      0.93       502\n",
      "\n"
     ]
    }
   ],
   "source": [
    "# Displaying results\n",
    "print(\"Confusion Matrix\")\n",
    "display(cm_df)\n",
    "print(f\"Accuracy Score : {acc_score}\")\n",
    "print(\"Classification Report\")\n",
    "print(classification_report(y_rf_test, predictions))"
   ]
  },
  {
   "cell_type": "markdown",
   "id": "34854772-1ba8-4f38-b849-2f63a968cb67",
   "metadata": {},
   "source": [
    "## Feature Importance"
   ]
  },
  {
   "cell_type": "code",
   "execution_count": 101,
   "id": "fdc20ed4-8bf7-4499-a896-6d693b5e21ad",
   "metadata": {},
   "outputs": [
    {
     "data": {
      "text/html": [
       "<div>\n",
       "<style scoped>\n",
       "    .dataframe tbody tr th:only-of-type {\n",
       "        vertical-align: middle;\n",
       "    }\n",
       "\n",
       "    .dataframe tbody tr th {\n",
       "        vertical-align: top;\n",
       "    }\n",
       "\n",
       "    .dataframe thead th {\n",
       "        text-align: right;\n",
       "    }\n",
       "</style>\n",
       "<table border=\"1\" class=\"dataframe\">\n",
       "  <thead>\n",
       "    <tr style=\"text-align: right;\">\n",
       "      <th></th>\n",
       "      <th>Feature</th>\n",
       "      <th>Importance</th>\n",
       "    </tr>\n",
       "  </thead>\n",
       "  <tbody>\n",
       "    <tr>\n",
       "      <th>24</th>\n",
       "      <td>Size_Medium</td>\n",
       "      <td>0.154879</td>\n",
       "    </tr>\n",
       "    <tr>\n",
       "      <th>0</th>\n",
       "      <td>Age_in_Months</td>\n",
       "      <td>0.154187</td>\n",
       "    </tr>\n",
       "    <tr>\n",
       "      <th>2</th>\n",
       "      <td>Vaccinated</td>\n",
       "      <td>0.123601</td>\n",
       "    </tr>\n",
       "    <tr>\n",
       "      <th>3</th>\n",
       "      <td>Health_Condition</td>\n",
       "      <td>0.085406</td>\n",
       "    </tr>\n",
       "    <tr>\n",
       "      <th>5</th>\n",
       "      <td>Adoption_Fee</td>\n",
       "      <td>0.074451</td>\n",
       "    </tr>\n",
       "    <tr>\n",
       "      <th>1</th>\n",
       "      <td>Weight_in_Kg</td>\n",
       "      <td>0.070881</td>\n",
       "    </tr>\n",
       "    <tr>\n",
       "      <th>12</th>\n",
       "      <td>Breed_Labrador</td>\n",
       "      <td>0.063364</td>\n",
       "    </tr>\n",
       "    <tr>\n",
       "      <th>4</th>\n",
       "      <td>Days_in_Shelter</td>\n",
       "      <td>0.060725</td>\n",
       "    </tr>\n",
       "    <tr>\n",
       "      <th>23</th>\n",
       "      <td>Size_Large</td>\n",
       "      <td>0.049380</td>\n",
       "    </tr>\n",
       "    <tr>\n",
       "      <th>25</th>\n",
       "      <td>Size_Small</td>\n",
       "      <td>0.046000</td>\n",
       "    </tr>\n",
       "  </tbody>\n",
       "</table>\n",
       "</div>"
      ],
      "text/plain": [
       "             Feature  Importance\n",
       "24       Size_Medium    0.154879\n",
       "0      Age_in_Months    0.154187\n",
       "2         Vaccinated    0.123601\n",
       "3   Health_Condition    0.085406\n",
       "5       Adoption_Fee    0.074451\n",
       "1       Weight_in_Kg    0.070881\n",
       "12    Breed_Labrador    0.063364\n",
       "4    Days_in_Shelter    0.060725\n",
       "23        Size_Large    0.049380\n",
       "25        Size_Small    0.046000"
      ]
     },
     "execution_count": 101,
     "metadata": {},
     "output_type": "execute_result"
    }
   ],
   "source": [
    "# Get the feature importance array\n",
    "\n",
    "importances = rf_model.feature_importances_\n",
    "feature_names = X.columns\n",
    "\n",
    "# Create a DataFrame for feature importances and sort it\n",
    "feature_importance_df = pd.DataFrame({'Feature': feature_names, 'Importance': importances})\n",
    "feature_importance_df = feature_importance_df.sort_values(by='Importance', ascending=False)\n",
    "\n",
    "# List the top 10 most important features\n",
    "feature_importance_df.head(10)"
   ]
  },
  {
   "cell_type": "code",
   "execution_count": 103,
   "id": "78665e68-33ca-46a8-a939-167e5faa49c9",
   "metadata": {},
   "outputs": [
    {
     "data": {
      "text/plain": [
       "<Axes: title={'center': 'Features Importances'}, ylabel='1'>"
      ]
     },
     "execution_count": 103,
     "metadata": {},
     "output_type": "execute_result"
    },
    {
     "data": {
      "image/png": "[encoded data removed]",
      "text/plain": [
       "<Figure size 640x480 with 1 Axes>"
      ]
     },
     "metadata": {},
     "output_type": "display_data"
    }
   ],
   "source": [
    "# Visualize the features by importance\n",
    "importances_df = pd.DataFrame(sorted(zip(rf_model.feature_importances_, X.columns), reverse=True))\n",
    "importances_df.set_index(importances_df[1], inplace=True)\n",
    "importances_df.drop(columns=1, inplace=True)\n",
    "importances_df.rename(columns={0: 'Feature Importances'}, inplace=True)\n",
    "importances_sorted = importances_df.sort_values(by='Feature Importances')\n",
    "importances_sorted.plot(kind='barh', color='lightgreen', title= 'Features Importances', legend=False)"
   ]
  },
  {
   "cell_type": "code",
   "execution_count": 108,
   "id": "6b8482f6-3a46-4481-a825-0cc675cbf3c8",
   "metadata": {},
   "outputs": [
    {
     "data": {
      "text/plain": [
       "['model.pkl']"
      ]
     },
     "execution_count": 108,
     "metadata": {},
     "output_type": "execute_result"
    }
   ],
   "source": [
    "import joblib\n",
    "\n",
    "# Save the model\n",
    "joblib.dump(rf_model, 'model.pkl')\n"
   ]
  },
  {
   "cell_type": "code",
   "execution_count": null,
   "id": "efed4dbd-b5dd-4da7-a0a0-7989a212216b",
   "metadata": {},
   "outputs": [],
   "source": []
  }
 ],
 "metadata": {
  "kernelspec": {
   "display_name": "Python 3 (ipykernel)",
   "language": "python",
   "name": "python3"
  },
  "language_info": {
   "codemirror_mode": {
    "name": "ipython",
    "version": 3
   },
   "file_extension": ".py",
   "mimetype": "text/x-python",
   "name": "python",
   "nbconvert_exporter": "python",
   "pygments_lexer": "ipython3",
   "version": "3.10.13"
  }
 },
 "nbformat": 4,
 "nbformat_minor": 5
}
